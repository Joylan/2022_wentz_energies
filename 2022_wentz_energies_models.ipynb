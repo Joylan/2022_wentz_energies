{
  "nbformat": 4,
  "nbformat_minor": 0,
  "metadata": {
    "colab": {
      "name": "2022_wentz_energies_models.ipynb",
      "provenance": [],
      "collapsed_sections": [
        "BD5uJNYqSZxe",
        "L0Jry5YC84w6",
        "ul2NNk5T_dyH",
        "HZUa_L-u_hS3",
        "mbn6qWHv_vNK",
        "oA-EsaLTKO5J",
        "pbbpvyaTLP0N",
        "Icjodd9PMkdG",
        "U88g3TRLPqIu",
        "KWZ7wRt_gVIu",
        "ePkq0jQYRLpV",
        "f8hNqSMtQK6H",
        "1Vz7PDEIId7S",
        "S_UEb9_mIjvd",
        "BGryG8SDJBUm",
        "YiyeMNrjJV1_",
        "IsHve3YfJZNT",
        "4mdbKaguJa2y",
        "9edtPAmwgYX4",
        "vYxhdtsbQDyF",
        "m85r_UjJgbC7",
        "uqp3Hhhvgd8Q",
        "ijmspBHvDD2V",
        "X4vGXr5DDU6B"
      ]
    },
    "kernelspec": {
      "name": "python3",
      "display_name": "Python 3"
    },
    "language_info": {
      "name": "python"
    },
    "accelerator": "GPU"
  },
  "cells": [
    {
      "cell_type": "markdown",
      "source": [
        "# Source code of the Paper *Solar Irradiance Forecasting to Short-Term PV Power: Accuracy Comparison of ANN and LSTM Models*\n",
        "\n",
        "This repository contains the source code for the full paper PDF available at [[Wentz et al. 2022]](https://doi.org/10.3390/en15072457).\n",
        "\n",
        "**We encourage the spirit of researchers to contribute to more reliable and reproducible studies.**\n",
        "\n",
        "Please, if you use this source code or part of it, cite:\n",
        "*   Wentz, V.H.; Maciel, J.N.; Gimenez Ledesma, J.J.; Ando Junior, O.H. Solar Irradiance Forecasting to Short-Term PV Power: Accuracy Comparison of ANN and LSTM Models. Energies 2022, 15, 2457."
      ],
      "metadata": {
        "id": "hSbE_Otc8qlZ"
      }
    },
    {
      "cell_type": "markdown",
      "metadata": {
        "id": "BD5uJNYqSZxe"
      },
      "source": [
        "## Gattering data from online dataset"
      ]
    },
    {
      "cell_type": "code",
      "metadata": {
        "id": "P0hxiyS3khnl"
      },
      "source": [
        "import pandas as pd\n",
        "import numpy as np\n",
        "import matplotlib.pyplot as plt\n",
        "import seaborn as sns\n",
        "\n",
        "from train_utils import *\n",
        "from utils import *"
      ],
      "execution_count": null,
      "outputs": []
    },
    {
      "cell_type": "code",
      "metadata": {
        "id": "PZ_Qg7d8TY2T"
      },
      "source": [
        "data_irradiance = pd.read_csv(\"https://zenodo.org/record/2826939/files/Folsom_irradiance.csv?download=1\",\n",
        "                              index_col = 'timeStamp', parse_dates=True)\n",
        "\n",
        "data_weather = pd.read_csv(\"https://zenodo.org/record/2826939/files/Folsom_weather.csv?download=1\",\n",
        "                           index_col = 'timeStamp', parse_dates=True)\n",
        "\n",
        "data_weather[\"month\"] = data_weather.index.month\n",
        "data_weather[\"day\"] = data_weather.index.day\n",
        "data_weather[\"hour\"] = data_weather.index.hour\n",
        "data_weather[\"minute\"] = data_weather.index.minute\n",
        "\n",
        "\n",
        "\n"
      ],
      "execution_count": null,
      "outputs": []
    },
    {
      "cell_type": "code",
      "metadata": {
        "id": "NXSFJ6YrYyUV"
      },
      "source": [
        "data = pd.concat([data_weather, data_irradiance['ghi']], axis = 1)"
      ],
      "execution_count": null,
      "outputs": []
    },
    {
      "cell_type": "code",
      "source": [
        "data.dropna(inplace=True)\n",
        "data_clean = data[['air_temp', 'windsp', 'winddir', 'month', 'day', 'hour', 'minute','ghi']].copy()"
      ],
      "metadata": {
        "id": "UDNvzMqSGwvh"
      },
      "execution_count": null,
      "outputs": []
    },
    {
      "cell_type": "markdown",
      "metadata": {
        "id": "L0Jry5YC84w6"
      },
      "source": [
        "## Dataset features initial analysis"
      ]
    },
    {
      "cell_type": "markdown",
      "metadata": {
        "id": "KQmPziuo8-LF"
      },
      "source": [
        "**Variables dictionary**\n",
        "\n",
        "`timeStamp`: Date and time (in UTC format). \\\\\n",
        "`air_temp`: Air temperature. \\\\\n",
        "`relhum`: Relative humidity of the air. \\\\\n",
        "`press`: Pressure at sea level. \\\\\n",
        "`windsp`: Wind speed.\n",
        "`winddir`: Wind direction.\n",
        "`max_windsp`: Maximum wind speed.\n",
        "`precipitation`: Precipitation.\n",
        "`ghi`: Global Horizontal Irradiance.\n",
        "All variables are in the International System (IS).\n",
        "\n"
      ]
    },
    {
      "cell_type": "markdown",
      "metadata": {
        "id": "ul2NNk5T_dyH"
      },
      "source": [
        "#### Show first five lines of dataset"
      ]
    },
    {
      "cell_type": "code",
      "metadata": {
        "colab": {
          "base_uri": "https://localhost:8080/",
          "height": 238
        },
        "id": "RPxzAt8fZwEu",
        "outputId": "48bb777d-5977-4078-cc65-e351520d95a9"
      },
      "source": [
        "data.head()"
      ],
      "execution_count": null,
      "outputs": [
        {
          "output_type": "execute_result",
          "data": {
            "text/html": [
              "\n",
              "  <div id=\"df-db4d973a-4c41-4ff2-b265-a910e5ecbd10\">\n",
              "    <div class=\"colab-df-container\">\n",
              "      <div>\n",
              "<style scoped>\n",
              "    .dataframe tbody tr th:only-of-type {\n",
              "        vertical-align: middle;\n",
              "    }\n",
              "\n",
              "    .dataframe tbody tr th {\n",
              "        vertical-align: top;\n",
              "    }\n",
              "\n",
              "    .dataframe thead th {\n",
              "        text-align: right;\n",
              "    }\n",
              "</style>\n",
              "<table border=\"1\" class=\"dataframe\">\n",
              "  <thead>\n",
              "    <tr style=\"text-align: right;\">\n",
              "      <th></th>\n",
              "      <th>air_temp</th>\n",
              "      <th>relhum</th>\n",
              "      <th>press</th>\n",
              "      <th>windsp</th>\n",
              "      <th>winddir</th>\n",
              "      <th>max_windsp</th>\n",
              "      <th>precipitation</th>\n",
              "      <th>ghi</th>\n",
              "    </tr>\n",
              "    <tr>\n",
              "      <th>timeStamp</th>\n",
              "      <th></th>\n",
              "      <th></th>\n",
              "      <th></th>\n",
              "      <th></th>\n",
              "      <th></th>\n",
              "      <th></th>\n",
              "      <th></th>\n",
              "      <th></th>\n",
              "    </tr>\n",
              "  </thead>\n",
              "  <tbody>\n",
              "    <tr>\n",
              "      <th>2014-01-02 08:00:00</th>\n",
              "      <td>7.32</td>\n",
              "      <td>56.56</td>\n",
              "      <td>1010.0</td>\n",
              "      <td>1.80</td>\n",
              "      <td>43.61</td>\n",
              "      <td>3.7</td>\n",
              "      <td>0.0</td>\n",
              "      <td>0.0</td>\n",
              "    </tr>\n",
              "    <tr>\n",
              "      <th>2014-01-02 08:01:00</th>\n",
              "      <td>7.26</td>\n",
              "      <td>56.82</td>\n",
              "      <td>1010.0</td>\n",
              "      <td>2.00</td>\n",
              "      <td>48.40</td>\n",
              "      <td>3.1</td>\n",
              "      <td>0.0</td>\n",
              "      <td>0.0</td>\n",
              "    </tr>\n",
              "    <tr>\n",
              "      <th>2014-01-02 08:02:00</th>\n",
              "      <td>7.20</td>\n",
              "      <td>56.96</td>\n",
              "      <td>1010.0</td>\n",
              "      <td>1.90</td>\n",
              "      <td>31.80</td>\n",
              "      <td>3.7</td>\n",
              "      <td>0.0</td>\n",
              "      <td>0.0</td>\n",
              "    </tr>\n",
              "    <tr>\n",
              "      <th>2014-01-02 08:03:00</th>\n",
              "      <td>7.14</td>\n",
              "      <td>57.12</td>\n",
              "      <td>1010.0</td>\n",
              "      <td>1.44</td>\n",
              "      <td>38.98</td>\n",
              "      <td>2.5</td>\n",
              "      <td>0.0</td>\n",
              "      <td>0.0</td>\n",
              "    </tr>\n",
              "    <tr>\n",
              "      <th>2014-01-02 08:04:00</th>\n",
              "      <td>7.08</td>\n",
              "      <td>57.36</td>\n",
              "      <td>1010.0</td>\n",
              "      <td>1.84</td>\n",
              "      <td>34.21</td>\n",
              "      <td>2.8</td>\n",
              "      <td>0.0</td>\n",
              "      <td>0.0</td>\n",
              "    </tr>\n",
              "  </tbody>\n",
              "</table>\n",
              "</div>\n",
              "      <button class=\"colab-df-convert\" onclick=\"convertToInteractive('df-db4d973a-4c41-4ff2-b265-a910e5ecbd10')\"\n",
              "              title=\"Convert this dataframe to an interactive table.\"\n",
              "              style=\"display:none;\">\n",
              "        \n",
              "  <svg xmlns=\"http://www.w3.org/2000/svg\" height=\"24px\"viewBox=\"0 0 24 24\"\n",
              "       width=\"24px\">\n",
              "    <path d=\"M0 0h24v24H0V0z\" fill=\"none\"/>\n",
              "    <path d=\"M18.56 5.44l.94 2.06.94-2.06 2.06-.94-2.06-.94-.94-2.06-.94 2.06-2.06.94zm-11 1L8.5 8.5l.94-2.06 2.06-.94-2.06-.94L8.5 2.5l-.94 2.06-2.06.94zm10 10l.94 2.06.94-2.06 2.06-.94-2.06-.94-.94-2.06-.94 2.06-2.06.94z\"/><path d=\"M17.41 7.96l-1.37-1.37c-.4-.4-.92-.59-1.43-.59-.52 0-1.04.2-1.43.59L10.3 9.45l-7.72 7.72c-.78.78-.78 2.05 0 2.83L4 21.41c.39.39.9.59 1.41.59.51 0 1.02-.2 1.41-.59l7.78-7.78 2.81-2.81c.8-.78.8-2.07 0-2.86zM5.41 20L4 18.59l7.72-7.72 1.47 1.35L5.41 20z\"/>\n",
              "  </svg>\n",
              "      </button>\n",
              "      \n",
              "  <style>\n",
              "    .colab-df-container {\n",
              "      display:flex;\n",
              "      flex-wrap:wrap;\n",
              "      gap: 12px;\n",
              "    }\n",
              "\n",
              "    .colab-df-convert {\n",
              "      background-color: #E8F0FE;\n",
              "      border: none;\n",
              "      border-radius: 50%;\n",
              "      cursor: pointer;\n",
              "      display: none;\n",
              "      fill: #1967D2;\n",
              "      height: 32px;\n",
              "      padding: 0 0 0 0;\n",
              "      width: 32px;\n",
              "    }\n",
              "\n",
              "    .colab-df-convert:hover {\n",
              "      background-color: #E2EBFA;\n",
              "      box-shadow: 0px 1px 2px rgba(60, 64, 67, 0.3), 0px 1px 3px 1px rgba(60, 64, 67, 0.15);\n",
              "      fill: #174EA6;\n",
              "    }\n",
              "\n",
              "    [theme=dark] .colab-df-convert {\n",
              "      background-color: #3B4455;\n",
              "      fill: #D2E3FC;\n",
              "    }\n",
              "\n",
              "    [theme=dark] .colab-df-convert:hover {\n",
              "      background-color: #434B5C;\n",
              "      box-shadow: 0px 1px 3px 1px rgba(0, 0, 0, 0.15);\n",
              "      filter: drop-shadow(0px 1px 2px rgba(0, 0, 0, 0.3));\n",
              "      fill: #FFFFFF;\n",
              "    }\n",
              "  </style>\n",
              "\n",
              "      <script>\n",
              "        const buttonEl =\n",
              "          document.querySelector('#df-db4d973a-4c41-4ff2-b265-a910e5ecbd10 button.colab-df-convert');\n",
              "        buttonEl.style.display =\n",
              "          google.colab.kernel.accessAllowed ? 'block' : 'none';\n",
              "\n",
              "        async function convertToInteractive(key) {\n",
              "          const element = document.querySelector('#df-db4d973a-4c41-4ff2-b265-a910e5ecbd10');\n",
              "          const dataTable =\n",
              "            await google.colab.kernel.invokeFunction('convertToInteractive',\n",
              "                                                     [key], {});\n",
              "          if (!dataTable) return;\n",
              "\n",
              "          const docLinkHtml = 'Like what you see? Visit the ' +\n",
              "            '<a target=\"_blank\" href=https://colab.research.google.com/notebooks/data_table.ipynb>data table notebook</a>'\n",
              "            + ' to learn more about interactive tables.';\n",
              "          element.innerHTML = '';\n",
              "          dataTable['output_type'] = 'display_data';\n",
              "          await google.colab.output.renderOutput(dataTable, element);\n",
              "          const docLink = document.createElement('div');\n",
              "          docLink.innerHTML = docLinkHtml;\n",
              "          element.appendChild(docLink);\n",
              "        }\n",
              "      </script>\n",
              "    </div>\n",
              "  </div>\n",
              "  "
            ],
            "text/plain": [
              "                     air_temp  relhum   press  ...  max_windsp  precipitation  ghi\n",
              "timeStamp                                      ...                                \n",
              "2014-01-02 08:00:00      7.32   56.56  1010.0  ...         3.7            0.0  0.0\n",
              "2014-01-02 08:01:00      7.26   56.82  1010.0  ...         3.1            0.0  0.0\n",
              "2014-01-02 08:02:00      7.20   56.96  1010.0  ...         3.7            0.0  0.0\n",
              "2014-01-02 08:03:00      7.14   57.12  1010.0  ...         2.5            0.0  0.0\n",
              "2014-01-02 08:04:00      7.08   57.36  1010.0  ...         2.8            0.0  0.0\n",
              "\n",
              "[5 rows x 8 columns]"
            ]
          },
          "metadata": {},
          "execution_count": 47
        }
      ]
    },
    {
      "cell_type": "markdown",
      "metadata": {
        "id": "HZUa_L-u_hS3"
      },
      "source": [
        "#### Variable types information.\n",
        "All variables are numeric."
      ]
    },
    {
      "cell_type": "code",
      "metadata": {
        "colab": {
          "base_uri": "https://localhost:8080/"
        },
        "id": "sFKdJfzlYyXu",
        "outputId": "1d7730fd-5968-4ce5-b9c9-8205e595ccf4"
      },
      "source": [
        "data.info()"
      ],
      "execution_count": null,
      "outputs": [
        {
          "output_type": "stream",
          "name": "stdout",
          "text": [
            "<class 'pandas.core.frame.DataFrame'>\n",
            "DatetimeIndex: 1552320 entries, 2014-01-02 08:00:00 to 2016-12-31 07:59:00\n",
            "Data columns (total 8 columns):\n",
            " #   Column         Non-Null Count    Dtype  \n",
            "---  ------         --------------    -----  \n",
            " 0   air_temp       1551702 non-null  float64\n",
            " 1   relhum         1551702 non-null  float64\n",
            " 2   press          1551702 non-null  float64\n",
            " 3   windsp         1551702 non-null  float64\n",
            " 4   winddir        1551702 non-null  float64\n",
            " 5   max_windsp     1551702 non-null  float64\n",
            " 6   precipitation  1551702 non-null  float64\n",
            " 7   ghi            1552320 non-null  float64\n",
            "dtypes: float64(8)\n",
            "memory usage: 106.6 MB\n"
          ]
        }
      ]
    },
    {
      "cell_type": "markdown",
      "metadata": {
        "id": "mbn6qWHv_vNK"
      },
      "source": [
        "#### Missind data treatment (27%)"
      ]
    },
    {
      "cell_type": "code",
      "metadata": {
        "colab": {
          "base_uri": "https://localhost:8080/"
        },
        "id": "hCofyMdjYyaQ",
        "outputId": "f0e4764e-d015-413f-ece3-b4d2cfb14d1b"
      },
      "source": [
        "print(f'{(data.isna().sum().sort_values().sum() / data.shape[0]) * 100} % ')\n",
        "data.isna().sum().sort_values()"
      ],
      "execution_count": null,
      "outputs": [
        {
          "output_type": "stream",
          "name": "stdout",
          "text": [
            "0.2786796536796537 % \n"
          ]
        },
        {
          "output_type": "execute_result",
          "data": {
            "text/plain": [
              "ghi                0\n",
              "air_temp         618\n",
              "relhum           618\n",
              "press            618\n",
              "windsp           618\n",
              "winddir          618\n",
              "max_windsp       618\n",
              "precipitation    618\n",
              "dtype: int64"
            ]
          },
          "metadata": {},
          "execution_count": 49
        }
      ]
    },
    {
      "cell_type": "code",
      "metadata": {
        "colab": {
          "base_uri": "https://localhost:8080/"
        },
        "id": "eRSIGqo4IWIH",
        "outputId": "a9064485-4f8d-4790-d137-a160384120f5"
      },
      "source": [
        "is_Null = data.isnull()\n",
        "mask_nan = is_Null.any(axis = 1)\n",
        "row_with_nan = data[mask_nan]\n",
        "print(row_with_nan)"
      ],
      "execution_count": null,
      "outputs": [
        {
          "output_type": "stream",
          "name": "stdout",
          "text": [
            "                     air_temp  relhum  press  ...  max_windsp  precipitation     ghi\n",
            "timeStamp                                     ...                                   \n",
            "2014-01-16 03:18:00       NaN     NaN    NaN  ...         NaN            NaN    0.00\n",
            "2014-01-16 03:19:00       NaN     NaN    NaN  ...         NaN            NaN    0.00\n",
            "2014-01-16 03:20:00       NaN     NaN    NaN  ...         NaN            NaN    0.00\n",
            "2014-01-16 03:21:00       NaN     NaN    NaN  ...         NaN            NaN    0.00\n",
            "2014-01-16 03:22:00       NaN     NaN    NaN  ...         NaN            NaN    0.00\n",
            "...                       ...     ...    ...  ...         ...            ...     ...\n",
            "2014-07-23 21:31:00       NaN     NaN    NaN  ...         NaN            NaN  897.43\n",
            "2014-07-23 21:32:00       NaN     NaN    NaN  ...         NaN            NaN  896.29\n",
            "2014-07-24 18:08:00       NaN     NaN    NaN  ...         NaN            NaN  830.80\n",
            "2014-07-24 18:09:00       NaN     NaN    NaN  ...         NaN            NaN  832.60\n",
            "2014-07-24 18:10:00       NaN     NaN    NaN  ...         NaN            NaN  834.40\n",
            "\n",
            "[618 rows x 8 columns]\n"
          ]
        }
      ]
    },
    {
      "cell_type": "code",
      "metadata": {
        "id": "SD32jsq1J1a7"
      },
      "source": [
        "data_clean = data.dropna().copy()"
      ],
      "execution_count": null,
      "outputs": []
    },
    {
      "cell_type": "markdown",
      "metadata": {
        "id": "oA-EsaLTKO5J"
      },
      "source": [
        "#### Descriptive statistics"
      ]
    },
    {
      "cell_type": "code",
      "metadata": {
        "id": "kn3fD_2wagc6",
        "colab": {
          "base_uri": "https://localhost:8080/",
          "height": 300
        },
        "outputId": "9f5c01b1-ea4c-4419-f519-30ecd0d6cd45"
      },
      "source": [
        "data_clean.describe()"
      ],
      "execution_count": null,
      "outputs": [
        {
          "output_type": "execute_result",
          "data": {
            "text/html": [
              "\n",
              "  <div id=\"df-e2e0c6ad-86ff-4686-8c87-9e22fee2d116\">\n",
              "    <div class=\"colab-df-container\">\n",
              "      <div>\n",
              "<style scoped>\n",
              "    .dataframe tbody tr th:only-of-type {\n",
              "        vertical-align: middle;\n",
              "    }\n",
              "\n",
              "    .dataframe tbody tr th {\n",
              "        vertical-align: top;\n",
              "    }\n",
              "\n",
              "    .dataframe thead th {\n",
              "        text-align: right;\n",
              "    }\n",
              "</style>\n",
              "<table border=\"1\" class=\"dataframe\">\n",
              "  <thead>\n",
              "    <tr style=\"text-align: right;\">\n",
              "      <th></th>\n",
              "      <th>air_temp</th>\n",
              "      <th>relhum</th>\n",
              "      <th>press</th>\n",
              "      <th>windsp</th>\n",
              "      <th>winddir</th>\n",
              "      <th>max_windsp</th>\n",
              "      <th>precipitation</th>\n",
              "      <th>ghi</th>\n",
              "    </tr>\n",
              "  </thead>\n",
              "  <tbody>\n",
              "    <tr>\n",
              "      <th>count</th>\n",
              "      <td>1.551702e+06</td>\n",
              "      <td>1.551702e+06</td>\n",
              "      <td>1.551702e+06</td>\n",
              "      <td>1.551702e+06</td>\n",
              "      <td>1.551702e+06</td>\n",
              "      <td>1.551702e+06</td>\n",
              "      <td>1.551702e+06</td>\n",
              "      <td>1.551702e+06</td>\n",
              "    </tr>\n",
              "    <tr>\n",
              "      <th>mean</th>\n",
              "      <td>1.747452e+01</td>\n",
              "      <td>5.457541e+01</td>\n",
              "      <td>1.003680e+03</td>\n",
              "      <td>1.335163e+00</td>\n",
              "      <td>1.820725e+02</td>\n",
              "      <td>2.141872e+00</td>\n",
              "      <td>2.721347e-03</td>\n",
              "      <td>2.086203e+02</td>\n",
              "    </tr>\n",
              "    <tr>\n",
              "      <th>std</th>\n",
              "      <td>8.237586e+00</td>\n",
              "      <td>2.240947e+01</td>\n",
              "      <td>5.038982e+00</td>\n",
              "      <td>8.299051e-01</td>\n",
              "      <td>8.314905e+01</td>\n",
              "      <td>1.251351e+00</td>\n",
              "      <td>3.681996e-02</td>\n",
              "      <td>2.953537e+02</td>\n",
              "    </tr>\n",
              "    <tr>\n",
              "      <th>min</th>\n",
              "      <td>-3.300000e+00</td>\n",
              "      <td>4.860000e+00</td>\n",
              "      <td>9.830000e+02</td>\n",
              "      <td>0.000000e+00</td>\n",
              "      <td>0.000000e+00</td>\n",
              "      <td>0.000000e+00</td>\n",
              "      <td>0.000000e+00</td>\n",
              "      <td>0.000000e+00</td>\n",
              "    </tr>\n",
              "    <tr>\n",
              "      <th>25%</th>\n",
              "      <td>1.140000e+01</td>\n",
              "      <td>3.566000e+01</td>\n",
              "      <td>1.000000e+03</td>\n",
              "      <td>7.400000e-01</td>\n",
              "      <td>1.214000e+02</td>\n",
              "      <td>1.200000e+00</td>\n",
              "      <td>0.000000e+00</td>\n",
              "      <td>0.000000e+00</td>\n",
              "    </tr>\n",
              "    <tr>\n",
              "      <th>50%</th>\n",
              "      <td>1.612000e+01</td>\n",
              "      <td>5.506000e+01</td>\n",
              "      <td>1.003000e+03</td>\n",
              "      <td>1.180000e+00</td>\n",
              "      <td>1.662000e+02</td>\n",
              "      <td>1.900000e+00</td>\n",
              "      <td>0.000000e+00</td>\n",
              "      <td>3.290000e+00</td>\n",
              "    </tr>\n",
              "    <tr>\n",
              "      <th>75%</th>\n",
              "      <td>2.270000e+01</td>\n",
              "      <td>7.436000e+01</td>\n",
              "      <td>1.007000e+03</td>\n",
              "      <td>1.720000e+00</td>\n",
              "      <td>2.599000e+02</td>\n",
              "      <td>2.700000e+00</td>\n",
              "      <td>0.000000e+00</td>\n",
              "      <td>3.871000e+02</td>\n",
              "    </tr>\n",
              "    <tr>\n",
              "      <th>max</th>\n",
              "      <td>4.278000e+01</td>\n",
              "      <td>9.400000e+01</td>\n",
              "      <td>1.021000e+03</td>\n",
              "      <td>9.300000e+00</td>\n",
              "      <td>3.600000e+02</td>\n",
              "      <td>1.680000e+01</td>\n",
              "      <td>5.040000e+00</td>\n",
              "      <td>1.466000e+03</td>\n",
              "    </tr>\n",
              "  </tbody>\n",
              "</table>\n",
              "</div>\n",
              "      <button class=\"colab-df-convert\" onclick=\"convertToInteractive('df-e2e0c6ad-86ff-4686-8c87-9e22fee2d116')\"\n",
              "              title=\"Convert this dataframe to an interactive table.\"\n",
              "              style=\"display:none;\">\n",
              "        \n",
              "  <svg xmlns=\"http://www.w3.org/2000/svg\" height=\"24px\"viewBox=\"0 0 24 24\"\n",
              "       width=\"24px\">\n",
              "    <path d=\"M0 0h24v24H0V0z\" fill=\"none\"/>\n",
              "    <path d=\"M18.56 5.44l.94 2.06.94-2.06 2.06-.94-2.06-.94-.94-2.06-.94 2.06-2.06.94zm-11 1L8.5 8.5l.94-2.06 2.06-.94-2.06-.94L8.5 2.5l-.94 2.06-2.06.94zm10 10l.94 2.06.94-2.06 2.06-.94-2.06-.94-.94-2.06-.94 2.06-2.06.94z\"/><path d=\"M17.41 7.96l-1.37-1.37c-.4-.4-.92-.59-1.43-.59-.52 0-1.04.2-1.43.59L10.3 9.45l-7.72 7.72c-.78.78-.78 2.05 0 2.83L4 21.41c.39.39.9.59 1.41.59.51 0 1.02-.2 1.41-.59l7.78-7.78 2.81-2.81c.8-.78.8-2.07 0-2.86zM5.41 20L4 18.59l7.72-7.72 1.47 1.35L5.41 20z\"/>\n",
              "  </svg>\n",
              "      </button>\n",
              "      \n",
              "  <style>\n",
              "    .colab-df-container {\n",
              "      display:flex;\n",
              "      flex-wrap:wrap;\n",
              "      gap: 12px;\n",
              "    }\n",
              "\n",
              "    .colab-df-convert {\n",
              "      background-color: #E8F0FE;\n",
              "      border: none;\n",
              "      border-radius: 50%;\n",
              "      cursor: pointer;\n",
              "      display: none;\n",
              "      fill: #1967D2;\n",
              "      height: 32px;\n",
              "      padding: 0 0 0 0;\n",
              "      width: 32px;\n",
              "    }\n",
              "\n",
              "    .colab-df-convert:hover {\n",
              "      background-color: #E2EBFA;\n",
              "      box-shadow: 0px 1px 2px rgba(60, 64, 67, 0.3), 0px 1px 3px 1px rgba(60, 64, 67, 0.15);\n",
              "      fill: #174EA6;\n",
              "    }\n",
              "\n",
              "    [theme=dark] .colab-df-convert {\n",
              "      background-color: #3B4455;\n",
              "      fill: #D2E3FC;\n",
              "    }\n",
              "\n",
              "    [theme=dark] .colab-df-convert:hover {\n",
              "      background-color: #434B5C;\n",
              "      box-shadow: 0px 1px 3px 1px rgba(0, 0, 0, 0.15);\n",
              "      filter: drop-shadow(0px 1px 2px rgba(0, 0, 0, 0.3));\n",
              "      fill: #FFFFFF;\n",
              "    }\n",
              "  </style>\n",
              "\n",
              "      <script>\n",
              "        const buttonEl =\n",
              "          document.querySelector('#df-e2e0c6ad-86ff-4686-8c87-9e22fee2d116 button.colab-df-convert');\n",
              "        buttonEl.style.display =\n",
              "          google.colab.kernel.accessAllowed ? 'block' : 'none';\n",
              "\n",
              "        async function convertToInteractive(key) {\n",
              "          const element = document.querySelector('#df-e2e0c6ad-86ff-4686-8c87-9e22fee2d116');\n",
              "          const dataTable =\n",
              "            await google.colab.kernel.invokeFunction('convertToInteractive',\n",
              "                                                     [key], {});\n",
              "          if (!dataTable) return;\n",
              "\n",
              "          const docLinkHtml = 'Like what you see? Visit the ' +\n",
              "            '<a target=\"_blank\" href=https://colab.research.google.com/notebooks/data_table.ipynb>data table notebook</a>'\n",
              "            + ' to learn more about interactive tables.';\n",
              "          element.innerHTML = '';\n",
              "          dataTable['output_type'] = 'display_data';\n",
              "          await google.colab.output.renderOutput(dataTable, element);\n",
              "          const docLink = document.createElement('div');\n",
              "          docLink.innerHTML = docLinkHtml;\n",
              "          element.appendChild(docLink);\n",
              "        }\n",
              "      </script>\n",
              "    </div>\n",
              "  </div>\n",
              "  "
            ],
            "text/plain": [
              "           air_temp        relhum  ...  precipitation           ghi\n",
              "count  1.551702e+06  1.551702e+06  ...   1.551702e+06  1.551702e+06\n",
              "mean   1.747452e+01  5.457541e+01  ...   2.721347e-03  2.086203e+02\n",
              "std    8.237586e+00  2.240947e+01  ...   3.681996e-02  2.953537e+02\n",
              "min   -3.300000e+00  4.860000e+00  ...   0.000000e+00  0.000000e+00\n",
              "25%    1.140000e+01  3.566000e+01  ...   0.000000e+00  0.000000e+00\n",
              "50%    1.612000e+01  5.506000e+01  ...   0.000000e+00  3.290000e+00\n",
              "75%    2.270000e+01  7.436000e+01  ...   0.000000e+00  3.871000e+02\n",
              "max    4.278000e+01  9.400000e+01  ...   5.040000e+00  1.466000e+03\n",
              "\n",
              "[8 rows x 8 columns]"
            ]
          },
          "metadata": {},
          "execution_count": 52
        }
      ]
    },
    {
      "cell_type": "markdown",
      "metadata": {
        "id": "pbbpvyaTLP0N"
      },
      "source": [
        "#### Visualization"
      ]
    },
    {
      "cell_type": "code",
      "metadata": {
        "colab": {
          "base_uri": "https://localhost:8080/",
          "height": 716
        },
        "id": "Q_cbKjGmYyc4",
        "outputId": "507ede0c-d0d3-4da5-a36a-e396a49b471f"
      },
      "source": [
        "data_clean.hist(bins = 15, figsize=(15,12));"
      ],
      "execution_count": null,
      "outputs": [
        {
          "output_type": "display_data",
          "data": {
            "image/png": "[encoded data removed]",
            "text/plain": [
              "<Figure size 1080x864 with 9 Axes>"
            ]
          },
          "metadata": {
            "needs_background": "light"
          }
        }
      ]
    },
    {
      "cell_type": "markdown",
      "metadata": {
        "id": "Icjodd9PMkdG"
      },
      "source": [
        "### Treatment of data for training"
      ]
    },
    {
      "cell_type": "markdown",
      "metadata": {
        "id": "zC8qVbJmOhxM"
      },
      "source": [
        "What do we have to do?\n",
        "- Normalization\n",
        "- Separation of the folds (3 folds)\n",
        "   - 2014 and 2015 as training, December as validation; (2016 test)\n",
        "   - 2015 and 2016 as training, December as validation; (2014 test)\n",
        "   - 2016 and 2014 as training, December as validation; (2015 test)\n",
        "  \n",
        "1 month to minute = 43800"
      ]
    },
    {
      "cell_type": "code",
      "metadata": {
        "id": "t-qUNNi5Yyjz"
      },
      "source": [
        "def data_train_test(data, year, ghi):\n",
        "\n",
        "    train = data[data.index.year != year]\n",
        "    \n",
        "    test = data[data.index.year == year]\n",
        "\n",
        "    trainNorm = 0.1 + 0.8 * ((train - train.min()) /\n",
        "                             (train.max() - train.min()))\n",
        "    \n",
        "    testNorm = 0.1 + 0.8 * ((test - test.min()) / (test.max() - test.min()))\n",
        "\n",
        "    TrainDataset = np.hstack([trainNorm[i].values.reshape(\n",
        "        (len(trainNorm[i]), 1)) for i in trainNorm.columns])\n",
        "    TestDataset = np.hstack([testNorm[i].values.reshape(\n",
        "        (len(testNorm[i]), 1)) for i in testNorm.columns])\n",
        "\n",
        "    if ghi:\n",
        "        # Train\n",
        "        X_train, y_train = split_sequences_ghi(TrainDataset[:1028982-43680], 1)\n",
        "\n",
        "        # Validation\n",
        "        X_val, y_val = split_sequences_ghi(\n",
        "            TrainDataset[1028982-43680:], 1)\n",
        "\n",
        "        # test\n",
        "        X_test, y_test = split_sequences_ghi(TestDataset, 1)\n",
        "\n",
        "    else:\n",
        "        # Train\n",
        "        X_train, y_train = split_sequences_ghi(TrainDataset[:1028982-43680], 1)\n",
        "\n",
        "        # Validation\n",
        "        X_val, y_val = split_sequences_ghi(TrainDataset[1028982-43680:], 1)\n",
        "\n",
        "        # test\n",
        "        X_test, y_test = split_sequences_ghi(TestDataset, 1)\n",
        "\n",
        "    n_in = X_train.shape[1] * X_train.shape[2]\n",
        "\n",
        "    X_train = X_train.reshape((X_train.shape[0], n_in))\n",
        "\n",
        "    X_val = X_val.reshape((X_val.shape[0], n_in))\n",
        "\n",
        "    X_test = X_test.reshape((X_test.shape[0], n_in))\n",
        "\n",
        "    return n_in, X_train, y_train, X_val, y_val, X_test, y_test"
      ],
      "execution_count": null,
      "outputs": []
    },
    {
      "cell_type": "markdown",
      "metadata": {
        "id": "U88g3TRLPqIu"
      },
      "source": [
        "### Machine Learning imports"
      ]
    },
    {
      "cell_type": "code",
      "source": [
        "import tensorflow as tf\n",
        "from tensorflow.keras.backend import clear_session\n",
        "from tensorflow.keras.models import Sequential, load_model\n",
        "from tensorflow.keras.initializers import GlorotNormal\n",
        "from tensorflow.keras.layers import Dense, Dropout, BatchNormalization\n",
        "from tensorflow.keras.callbacks import Callback, EarlyStopping, ModelCheckpoint, LearningRateScheduler\n",
        "from tensorflow.keras.layers import LSTM\n",
        "from tensorflow.keras.utils import plot_model\n",
        "\n",
        "from sklearn.metrics import r2_score\n",
        "from sklearn.metrics import mean_squared_error\n",
        "\n",
        "import os\n",
        "import time"
      ],
      "metadata": {
        "id": "U8F-sEFINLgC"
      },
      "execution_count": null,
      "outputs": []
    },
    {
      "cell_type": "markdown",
      "source": [
        "## Training Models"
      ],
      "metadata": {
        "id": "KWZ7wRt_gVIu"
      }
    },
    {
      "cell_type": "markdown",
      "metadata": {
        "id": "ePkq0jQYRLpV"
      },
      "source": [
        "### ANN"
      ]
    },
    {
      "cell_type": "markdown",
      "metadata": {
        "id": "f8hNqSMtQK6H"
      },
      "source": [
        "#### Create ANN model"
      ]
    },
    {
      "cell_type": "code",
      "metadata": {
        "id": "rtSFBU6MYymO"
      },
      "source": [
        "def get_model(n_in: int,\n",
        "              n_out: int,\n",
        "              nLayers: list,\n",
        "              dropout: float = 0.15,\n",
        "              batchNorm: bool = False,\n",
        "              activ: str = \"relu\"\n",
        "              ) -> tf.keras.models.Sequential:\n",
        "    \"\"\"[summary]\n",
        "    Args:\n",
        "        n_in (int): [description]\n",
        "        n_out (int): [description]\n",
        "        nLayers (list): [description]\n",
        "        dropout (float, optional): [description]. Defaults to 0.15.\n",
        "        batchNorm (bool, optional): [description]. Defaults to False.\n",
        "        activ (str, optional): [description]. Defaults to \"relu\".\n",
        "    Returns:\n",
        "        tf.keras.models.Sequential: [description]\n",
        "    \"\"\"\n",
        "    model = Sequential()\n",
        "\n",
        "    seed = 2459\n",
        "\n",
        "    if batchNorm:\n",
        "\n",
        "\n",
        "        for layer in nLayers:\n",
        "            model.add(Dense(layer,\n",
        "                            activation=activ,\n",
        "                            kernel_initializer=GlorotNormal(seed=seed),\n",
        "                            input_shape=(n_in,)))\n",
        "            model.add(BatchNormalization())\n",
        "            model.add(Dropout(dropout))\n",
        "            n_in = layer\n",
        "\n",
        "        model.add(Dense(n_out, input_shape=(n_in,)))\n",
        "\n",
        "        return model\n",
        "\n",
        "    elif not batchNorm:\n",
        "        for layer in nLayers:\n",
        "            model.add(Dense(layer,\n",
        "                            activation=activ,\n",
        "                            kernel_initializer=GlorotNormal(seed=seed),\n",
        "                            input_shape=(n_in,)))\n",
        "            model.add(Dropout(dropout))\n",
        "            n_in = layer\n",
        "\n",
        "        model.add(Dense(n_out, input_shape=(n_in,)))\n",
        "\n",
        "        return model"
      ],
      "execution_count": null,
      "outputs": []
    },
    {
      "cell_type": "markdown",
      "source": [
        "### ANN Training"
      ],
      "metadata": {
        "id": "1Vz7PDEIId7S"
      }
    },
    {
      "cell_type": "markdown",
      "source": [
        "#### Complete Variables"
      ],
      "metadata": {
        "id": "S_UEb9_mIjvd"
      }
    },
    {
      "cell_type": "code",
      "source": [
        "def scheduler(epoch, lr):\n",
        "  if epoch < 10:\n",
        "    return lr # 0.01\n",
        "  else:\n",
        "    return lr * tf.math.exp(-0.1) # 0.0001 -> 0000....1111"
      ],
      "metadata": {
        "id": "n-HhVSDVPLW9"
      },
      "execution_count": null,
      "outputs": []
    },
    {
      "cell_type": "code",
      "source": [
        "from tensorflow.keras.callbacks import Callback, EarlyStopping, ModelCheckpoint, LearningRateScheduler\n",
        "\n",
        "save_model = \"/content/Modelos/ANN/teste_teste.h5\"\n",
        "\n",
        "early = EarlyStopping(monitor=\"val_loss\", patience=10)\n",
        "\n",
        "save = ModelCheckpoint(filepath=save_model,\n",
        "                         monitor = \"val_loss\",\n",
        "                         save_best_only=True)\n",
        " \n",
        "learningRateScheduler = LearningRateScheduler(scheduler)\n",
        "\n",
        "model.compile(loss=\"mse\",\n",
        "                optimizer=tf.keras.optimizers.Adam(learning_rate=0.001)\n",
        "                )\n",
        "\n",
        "\n",
        "with tf.device('/device:GPU:0'):\n",
        "\n",
        "  model.fit(X_train, y_train,\n",
        "                    validation_data=(X_val, y_val),\n",
        "                    epochs=1000,\n",
        "                    batch_size=32,\n",
        "                    verbose=0,\n",
        "                    callbacks=[early, save, learningRateScheduler])"
      ],
      "metadata": {
        "id": "gJtsNhr2Q3f_"
      },
      "execution_count": null,
      "outputs": []
    },
    {
      "cell_type": "code",
      "metadata": {
        "id": "HCNBnxcfYyo4",
        "colab": {
          "base_uri": "https://localhost:8080/"
        },
        "outputId": "a438baf7-96b5-4c4d-b211-92a0130fab76"
      },
      "source": [
        "for year in [2016, 2014, 2015]:\n",
        "  # Pegar os dados:\n",
        "  n_in, X_train, y_train, X_val, y_val, X_test, y_test = data_train_test(data_clean, year, ghi=False)\n",
        "\n",
        "  # Pegar modelo:\n",
        "  model = get_model(n_in, 1, nLayers = [30,30])\n",
        "\n",
        "  save_model = \"/content/Modelos/ANN/teste_\"+str(year)+\".h5\"\n",
        "\n",
        "  early = EarlyStopping(monitor=\"val_loss\", patience=10)\n",
        "\n",
        "  save = ModelCheckpoint(filepath=save_model,\n",
        "                         monitor = \"val_loss\",\n",
        "                         save_best_only=True)\n",
        "  \n",
        "  learningRateScheduler = LearningRateScheduler(scheduler)\n",
        "  \n",
        "  mape = tf.keras.metrics.MeanAbsolutePercentageError()\n",
        "  rmse = tf.keras.metrics.RootMeanSquaredError()\n",
        "\n",
        "  clear_session()\n",
        "\n",
        "  \n",
        "\n",
        "  model.compile(loss=\"mse\",\n",
        "                optimizer=tf.keras.optimizers.Adam(learning_rate=0.001),\n",
        "                metrics=[rmse, mape])\n",
        "\n",
        "  print(f\"[INFO] Train model. {year}\")\n",
        "  start = time.time()\n",
        "  with tf.device('/device:GPU:0'):\n",
        "    model.fit(X_train, y_train,\n",
        "                    validation_data=(X_val, y_val),\n",
        "                    epochs=1000,\n",
        "                    batch_size=32,\n",
        "                    verbose=0,\n",
        "                    callbacks=[early, save, learningRateScheduler])\n",
        "  end = time.time()\n",
        "  \n"
      ],
      "execution_count": null,
      "outputs": [
        {
          "output_type": "stream",
          "name": "stdout",
          "text": [
            "[INFO] Train model. 2016\n",
            "[INFO] Train model. 2014\n",
            "[INFO] Train model. 2015\n"
          ]
        }
      ]
    },
    {
      "cell_type": "code",
      "metadata": {
        "id": "7kcgWRiFYyrj",
        "colab": {
          "base_uri": "https://localhost:8080/"
        },
        "outputId": "99e2ad78-5647-4227-82af-12c82ecf0283"
      },
      "source": [
        "!zip -r \"/content/ANN2.zip\" \"/content/Modelos/ANN\""
      ],
      "execution_count": null,
      "outputs": [
        {
          "output_type": "stream",
          "name": "stdout",
          "text": [
            "updating: content/Modelos/ANN/ (stored 0%)\n",
            "  adding: content/Modelos/ANN/teste_2015.h5 (deflated 69%)\n",
            "  adding: content/Modelos/ANN/teste_2016.h5 (deflated 70%)\n",
            "  adding: content/Modelos/ANN/teste_2014.h5 (deflated 74%)\n"
          ]
        }
      ]
    },
    {
      "cell_type": "markdown",
      "source": [
        "#### Reduced Variables"
      ],
      "metadata": {
        "id": "BGryG8SDJBUm"
      }
    },
    {
      "cell_type": "code",
      "metadata": {
        "id": "Kvi_xNelYyuK"
      },
      "source": [
        "def scheduler(epoch, lr):\n",
        "  if epoch < 10:\n",
        "    return lr\n",
        "  else:\n",
        "    return lr * tf.math.exp(-0.1)"
      ],
      "execution_count": null,
      "outputs": []
    },
    {
      "cell_type": "code",
      "metadata": {
        "id": "doJeBRYZYywp",
        "colab": {
          "base_uri": "https://localhost:8080/"
        },
        "outputId": "81f5242d-516a-4dd6-be37-84bb3c7a961e"
      },
      "source": [
        "for year in [2016, 2014, 2015]:\n",
        "  # Pegar os dados:\n",
        "  n_in, X_train, y_train, X_val, y_val, X_test, y_test = data_train_test(data_clean, year, ghi=False)\n",
        "\n",
        "  # Pegar modelo:\n",
        "  model = get_model(n_in, 1, nLayers = [30,30])\n",
        "\n",
        "  save_model = \"/content/Modelos/ANN/teste_red_\"+str(year)+\".h5\"\n",
        "\n",
        "  early = EarlyStopping(monitor=\"val_loss\", patience=10)\n",
        "\n",
        "  save = ModelCheckpoint(filepath=save_model,\n",
        "                         monitor = \"val_loss\",\n",
        "                         save_best_only=True)\n",
        "  \n",
        "  learningRateScheduler = LearningRateScheduler(scheduler)\n",
        "  \n",
        "  mape = tf.keras.metrics.MeanAbsolutePercentageError()\n",
        "  rmse = tf.keras.metrics.RootMeanSquaredError()\n",
        "\n",
        "  clear_session()\n",
        "\n",
        "  \n",
        "\n",
        "  model.compile(loss=\"mse\",\n",
        "                optimizer=tf.keras.optimizers.Adam(learning_rate=0.001),\n",
        "                metrics=[rmse, mape])\n",
        "\n",
        "  print(f\"[INFO] Train model. {year}\")\n",
        "  start = time.time()\n",
        "  with tf.device('/device:GPU:0'):\n",
        "    model.fit(X_train, y_train,\n",
        "                    validation_data=(X_val, y_val),\n",
        "                    epochs=1000,\n",
        "                    batch_size=32,\n",
        "                    verbose=0,\n",
        "                    callbacks=[early, save, learningRateScheduler])\n",
        "  end = time.time()"
      ],
      "execution_count": null,
      "outputs": [
        {
          "metadata": {
            "tags": null
          },
          "name": "stdout",
          "output_type": "stream",
          "text": [
            "[INFO] Train model. 2016\n",
            "[INFO] Train model. 2014\n",
            "[INFO] Train model. 2015\n"
          ]
        }
      ]
    },
    {
      "cell_type": "code",
      "metadata": {
        "id": "ElSFk37aYyzY",
        "colab": {
          "base_uri": "https://localhost:8080/"
        },
        "outputId": "e6697702-af49-413a-c13f-6474a0e6818f"
      },
      "source": [
        "!zip -r \"/content/ANN_REDUZIDO.zip\" \"/content/Modelos/ANN\""
      ],
      "execution_count": null,
      "outputs": [
        {
          "output_type": "stream",
          "name": "stdout",
          "text": [
            "  adding: content/Modelos/ANN/ (stored 0%)\n",
            "  adding: content/Modelos/ANN/teste_red_2016.h5 (deflated 70%)\n",
            "  adding: content/Modelos/ANN/teste_red_2014.h5 (deflated 75%)\n",
            "  adding: content/Modelos/ANN/teste_red_2015.h5 (deflated 73%)\n"
          ]
        }
      ]
    },
    {
      "cell_type": "markdown",
      "source": [
        "### LSTM Training"
      ],
      "metadata": {
        "id": "YiyeMNrjJV1_"
      }
    },
    {
      "cell_type": "markdown",
      "source": [
        "#### Complete variables"
      ],
      "metadata": {
        "id": "IsHve3YfJZNT"
      }
    },
    {
      "cell_type": "code",
      "source": [
        "X_train.shape"
      ],
      "metadata": {
        "colab": {
          "base_uri": "https://localhost:8080/"
        },
        "id": "04Ue4n9JR8HE",
        "outputId": "91c7cf20-d577-4865-af73-9a9a79ba6d92"
      },
      "execution_count": null,
      "outputs": [
        {
          "output_type": "execute_result",
          "data": {
            "text/plain": [
              "(985301, 12)"
            ]
          },
          "metadata": {},
          "execution_count": 13
        }
      ]
    },
    {
      "cell_type": "code",
      "source": [
        "for year in [2016, 2014, 2015]:\n",
        "\n",
        "  n_steps = 1\n",
        "  #n_in, X_train, y_train, X_val, y_val, X_test, y_test = data_train_test(data_clean, year , False)\n",
        "  #n_features = X_train.shape[1]\n",
        "\n",
        "  #X_train = X_train.reshape(-1, 1, 12)\n",
        "  #X_val = X_val.reshape(-1, 1, 12)\n",
        "  #X_test = X_test.reshape(-1, 1, 12)\n",
        "\n",
        "  \n",
        "\n",
        "  model = Sequential([\n",
        "                    LSTM(30, activation=\"tanh\", return_sequences=True ,input_shape=(n_steps,n_features)),\n",
        "                    Dropout(0.15),\n",
        "                    LSTM(30, activation='tanh'),\n",
        "                    Dense(1)\n",
        "  ])\n",
        "  \n",
        "\n",
        "  \n",
        "\n",
        "\n",
        " # save_model = \"/content/Modelos/LSTM/teste_LSTM_\"+str(year)+\".h5\"\n",
        "\n",
        " # early = EarlyStopping(monitor=\"val_loss\", patience=10)\n",
        "\n",
        " # save = ModelCheckpoint(filepath=save_model,\n",
        " #                        monitor = \"val_loss\",\n",
        " #                        save_best_only=True)\n",
        "  \n",
        " # learningRateScheduler = LearningRateScheduler(scheduler)\n",
        "  \n",
        " # mape = tf.keras.metrics.MeanAbsolutePercentageError()\n",
        " # rmse = tf.keras.metrics.RootMeanSquaredError()\n",
        "\n",
        " # clear_session()\n",
        "\n",
        "\n",
        " # model.compile(loss=\"mse\",\n",
        " #               optimizer=tf.keras.optimizers.Adam(learning_rate=0.001),\n",
        " #               metrics=[rmse, mape])\n",
        "  \n",
        " # clear_session()\n",
        " # print(f\"[INFO] Train model. {year}\")\n",
        " # start = time.time()\n",
        " # with tf.device('/device:GPU:0'):\n",
        " #   model.fit(X_train, y_train,\n",
        " #                   validation_data=(X_val, y_val),\n",
        " #                   epochs=1000,\n",
        " #                   batch_size=32,\n",
        " #                   verbose=0,\n",
        " #                   callbacks=[early, save, learningRateScheduler])\n",
        " # end = time.time()"
      ],
      "metadata": {
        "id": "QV1QYJyEJaZw"
      },
      "execution_count": null,
      "outputs": []
    },
    {
      "cell_type": "code",
      "source": [
        "!zip -r \"/content/LSTM.zip\" \"/content/Modelos/LSTM\""
      ],
      "metadata": {
        "colab": {
          "base_uri": "https://localhost:8080/"
        },
        "id": "_zGZ9MQxpfdA",
        "outputId": "2a5c12bd-f23f-44fd-facb-822432efed88"
      },
      "execution_count": null,
      "outputs": [
        {
          "output_type": "stream",
          "name": "stdout",
          "text": [
            "  adding: content/Modelos/LSTM/ (stored 0%)\n",
            "  adding: content/Modelos/LSTM/teste_LSTM_2016.h5 (deflated 58%)\n",
            "  adding: content/Modelos/LSTM/teste_LSTM_2014.h5 (deflated 58%)\n",
            "  adding: content/Modelos/LSTM/teste_LSTM_2015.h5 (deflated 58%)\n"
          ]
        }
      ]
    },
    {
      "cell_type": "markdown",
      "source": [
        "#### Reduced variables"
      ],
      "metadata": {
        "id": "4mdbKaguJa2y"
      }
    },
    {
      "cell_type": "code",
      "source": [
        "for year in [2016, 2014, 2015]:\n",
        "\n",
        "  n_steps = 1\n",
        "  n_in, X_train, y_train, X_val, y_val, X_test, y_test = data_train_test(data_clean, year , False)\n",
        "  n_features = X_train.shape[1]\n",
        "\n",
        "  X_train = X_train.reshape(-1, 1, 8)\n",
        "  X_val = X_val.reshape(-1, 1, 8)\n",
        "  X_test = X_test.reshape(-1, 1, 8)\n",
        "\n",
        "  \n",
        "\n",
        "  model = Sequential([\n",
        "                    LSTM(30, activation=\"tanh\",return_sequences=True,input_shape=(n_steps,n_features)),\n",
        "                    Dropout(0.15),\n",
        "                    LSTM(30, activation='tanh'),\n",
        "                    Dense(1)\n",
        "  ])\n",
        "\n",
        "\n",
        "\n",
        "  save_model = \"/content/Modelos/LSTM/teste_LSTM_RED_\"+str(year)+\".h5\"\n",
        "\n",
        "  early = EarlyStopping(monitor=\"val_loss\", patience=10)\n",
        "\n",
        "  save = ModelCheckpoint(filepath=save_model,\n",
        "                         monitor = \"val_loss\",\n",
        "                         save_best_only=True)\n",
        "  \n",
        "  learningRateScheduler = LearningRateScheduler(scheduler)\n",
        "  \n",
        "  mape = tf.keras.metrics.MeanAbsolutePercentageError()\n",
        "  rmse = tf.keras.metrics.RootMeanSquaredError()\n",
        "\n",
        "  clear_session()\n",
        "\n",
        "\n",
        "  model.compile(loss=\"mse\",\n",
        "                optimizer=tf.keras.optimizers.Adam(learning_rate=0.001),\n",
        "                metrics=[rmse, mape])\n",
        "  \n",
        "  clear_session()\n",
        "  print(f\"[INFO] Train model. {year}\")\n",
        "  #start = time.time()\n",
        "  \n",
        "  model.fit(X_train, y_train,\n",
        "                    validation_data=(X_val, y_val),\n",
        "                    epochs=1000,\n",
        "                    batch_size=32,\n",
        "                    verbose=0,\n",
        "                    callbacks=[early, save, learningRateScheduler])\n",
        "  #end = time.time()"
      ],
      "metadata": {
        "id": "v0XwmLsYJbmQ",
        "colab": {
          "base_uri": "https://localhost:8080/"
        },
        "outputId": "13eeb1f3-3451-4129-c8a4-814c6229ed5f"
      },
      "execution_count": null,
      "outputs": [
        {
          "output_type": "stream",
          "name": "stdout",
          "text": [
            "[INFO] Train model. 2016\n",
            "[INFO] Train model. 2014\n",
            "[INFO] Train model. 2015\n"
          ]
        }
      ]
    },
    {
      "cell_type": "code",
      "source": [
        "!zip -r \"/content/ANN_REDUZIDO.zip\" \"/content/Modelos/ANN\""
      ],
      "metadata": {
        "id": "mhH7nwuUXfY1"
      },
      "execution_count": null,
      "outputs": []
    },
    {
      "cell_type": "markdown",
      "source": [
        "## Testing models"
      ],
      "metadata": {
        "id": "9edtPAmwgYX4"
      }
    },
    {
      "cell_type": "markdown",
      "source": [
        "### Automated function to train and test models"
      ],
      "metadata": {
        "id": "vYxhdtsbQDyF"
      }
    },
    {
      "cell_type": "code",
      "source": [
        "def data_train_test_mod(data, year, ghi):\n",
        "\n",
        "    train = data[data.index.year != year]\n",
        "    \n",
        "    test = data[data.index.year == year]\n",
        "\n",
        "    twoYear = train.shape[0]\n",
        "    dec = train[train.index.month == 12].shape[0]\n",
        "\n",
        "    trainNorm = 0.1 + 0.8 * ((train - train.min()) /\n",
        "                             (train.max() - train.min()))\n",
        "    \n",
        "    testNorm = 0.1 + 0.8 * ((test - test.min()) / (test.max() - test.min()))\n",
        "\n",
        "\n",
        "    TrainDataset = np.hstack([trainNorm[i].values.reshape(\n",
        "        (len(trainNorm[i]), 1)) for i in trainNorm.columns])\n",
        "    TestDataset = np.hstack([testNorm[i].values.reshape(\n",
        "        (len(testNorm[i]), 1)) for i in testNorm.columns])\n",
        "\n",
        "\n",
        "    X_train, y_train = split_sequences_ghi(TrainDataset[:twoYear - dec], 1)\n",
        "    X_train = np.nan_to_num(X_train, nan=0.1)\n",
        "\n",
        "        \n",
        "    X_val, y_val = split_sequences_ghi(TrainDataset[twoYear - dec:], 1)\n",
        "    X_val = np.nan_to_num(X_val, nan=0.1)\n",
        "\n",
        "        \n",
        "    X_test, y_test = split_sequences_ghi(TestDataset, 1)\n",
        "    X_test = np.nan_to_num(X_test, nan=0.1)\n",
        "\n",
        "    n_in = X_train.shape[1] * X_train.shape[2]\n",
        "\n",
        "    X_train = X_train.reshape((X_train.shape[0], n_in))\n",
        "\n",
        "    X_val = X_val.reshape((X_val.shape[0], n_in))\n",
        "\n",
        "    X_test = X_test.reshape((X_test.shape[0], n_in))\n",
        "\n",
        "    return n_in, X_train, y_train, X_val, y_val, X_test, y_test"
      ],
      "metadata": {
        "id": "QSat18n6QBjl"
      },
      "execution_count": null,
      "outputs": []
    },
    {
      "cell_type": "markdown",
      "source": [
        "### Test Models with Complete Input Set "
      ],
      "metadata": {
        "id": "m85r_UjJgbC7"
      }
    },
    {
      "cell_type": "code",
      "source": [
        "from glob import glob"
      ],
      "metadata": {
        "id": "T0ItIygIgZHF"
      },
      "execution_count": null,
      "outputs": []
    },
    {
      "cell_type": "code",
      "source": [
        "pasta_modelos = sorted(glob(\"/content/Modelos/Modelos_Completos/*.h5\"))"
      ],
      "metadata": {
        "id": "E7wjvhxx1O4H"
      },
      "execution_count": null,
      "outputs": []
    },
    {
      "cell_type": "code",
      "source": [
        "resultados = {\n",
        "    \"ANN\": {\n",
        "        \"RMSE\": [],\n",
        "        \"nRMSE\": [],\n",
        "        \"MAPE\": [],\n",
        "        \"R2\": []\n",
        "    },\n",
        "\n",
        "    \"LSTM\": {\n",
        "        \"RMSE\": [],\n",
        "        \"nRMSE\": [],\n",
        "        'MAPE': [],\n",
        "        \"R2\": []\n",
        "    }\n",
        "}"
      ],
      "metadata": {
        "id": "WF77Imxe1Lx6"
      },
      "execution_count": null,
      "outputs": []
    },
    {
      "cell_type": "code",
      "source": [
        "data_irradiance = pd.read_csv(\"https://zenodo.org/record/2826939/files/Folsom_irradiance.csv?download=1\",\n",
        "                              index_col = 'timeStamp', parse_dates=True)\n",
        "\n",
        "data_weather = pd.read_csv(\"https://zenodo.org/record/2826939/files/Folsom_weather.csv?download=1\",\n",
        "                           index_col = 'timeStamp', parse_dates=True)\n",
        "\n",
        "data_weather[\"month\"] = data_weather.index.month\n",
        "data_weather[\"day\"] = data_weather.index.day\n",
        "data_weather[\"hour\"] = data_weather.index.hour\n",
        "data_weather[\"minute\"] = data_weather.index.minute"
      ],
      "metadata": {
        "id": "QXixJV_XIjdw"
      },
      "execution_count": null,
      "outputs": []
    },
    {
      "cell_type": "code",
      "source": [
        "#del data\n",
        "data = pd.concat([data_weather, data_irradiance['ghi']], axis = 1)\n",
        "data.dropna(inplace=True)\n",
        "# 15 minutes\n",
        "#data = data[data.index.minute % 15 == 0]\n",
        "# 60 minutes\n",
        "data = data[data.index.minute % 60 == 0]"
      ],
      "metadata": {
        "id": "gVDHLGqzb1La"
      },
      "execution_count": null,
      "outputs": []
    },
    {
      "cell_type": "code",
      "source": [
        "results_writer2 = pd.ExcelWriter('valores.xlsx', engine='openpyxl')"
      ],
      "metadata": {
        "id": "SRXxasonXxN8"
      },
      "execution_count": null,
      "outputs": []
    },
    {
      "cell_type": "code",
      "source": [
        "for modelo in pasta_modelos:\n",
        "\n",
        "  modelo_tipo = modelo.split(\"/\")[-1].split(\"_\")[1]\n",
        "\n",
        "  year = int(modelo.split(\"/\")[-1].split(\"_\")[-1].split(\".\")[0])\n",
        "\n",
        "  model = load_model(modelo)\n",
        "\n",
        "  if modelo_tipo == \"LSTM\":\n",
        "    \n",
        "    #n_steps = 1\n",
        "\n",
        "    _, _, _, _, _, X_test, y_test = data_train_test_mod(data, year , False)\n",
        "    dataFrame_real = pd.DataFrame(y_test)\n",
        "    dataFrame_real.to_excel(results_writer2, sheet_name=f'valor_real_{year}')\n",
        "\n",
        "    n_features = X_test.shape[1]\n",
        "\n",
        "    X_test = X_test.reshape(-1, 1, 12)\n",
        "    y_test = y_test.reshape(-1,1)\n",
        "\n",
        "    result = model.predict(X_test)\n",
        "    dataFrame_predict = pd.DataFrame(result)\n",
        "    dataFrame_predict.to_excel(results_writer2, sheet_name=f'valor_{modelo_tipo}_predito_{year}')\n",
        "\n",
        "    #resultados[modelo_tipo]['MAPE'].append(mape2(y_test,result))\n",
        "    #resultados[modelo_tipo]['RMSE'].append(rmse(y_test,result))\n",
        "    #resultados[modelo_tipo]['nRMSE'].append(nrmse(y_test,result))\n",
        "    #resultados[modelo_tipo]['R2'].append(r2_score(y_test,result))\n",
        "\n",
        "\n",
        "  else:\n",
        "    _, _, _, _, _, X_test, y_test = data_train_test_mod(data, year , False)\n",
        "\n",
        "    result = model.predict(X_test)\n",
        "    \n",
        "    dataFrame_predict = pd.DataFrame(result)\n",
        "    dataFrame_predict.to_excel(results_writer2, sheet_name=f'valor_{modelo_tipo}_predito_{year}')\n",
        "\n",
        "    y_test = y_test.reshape(-1,1)\n",
        "\n",
        "    #resultados[modelo_tipo]['MAPE'].append(mape2(y_test,result))\n",
        "    #resultados[modelo_tipo]['RMSE'].append(rmse(y_test,result))\n",
        "    #resultados[modelo_tipo]['nRMSE'].append(nrmse(y_test,result))\n",
        "    #resultados[modelo_tipo]['R2'].append(r2_score(y_test,result))\n",
        "\n"
      ],
      "metadata": {
        "id": "be7lsspR1L1r"
      },
      "execution_count": null,
      "outputs": []
    },
    {
      "cell_type": "code",
      "source": [
        "results_writer2.save()"
      ],
      "metadata": {
        "id": "cDk0pguNKV-s"
      },
      "execution_count": null,
      "outputs": []
    },
    {
      "cell_type": "markdown",
      "source": [
        "### Test Models with Reduced Input Set "
      ],
      "metadata": {
        "id": "uqp3Hhhvgd8Q"
      }
    },
    {
      "cell_type": "code",
      "source": [
        "data_irradiance = pd.read_csv(\"https://zenodo.org/record/2826939/files/Folsom_irradiance.csv?download=1\",\n",
        "                              index_col = 'timeStamp', parse_dates=True)\n",
        "\n",
        "data_weather = pd.read_csv(\"https://zenodo.org/record/2826939/files/Folsom_weather.csv?download=1\",\n",
        "                           index_col = 'timeStamp', parse_dates=True)\n",
        "\n",
        "data_weather[\"month\"] = data_weather.index.month\n",
        "data_weather[\"day\"] = data_weather.index.day\n",
        "data_weather[\"hour\"] = data_weather.index.hour\n",
        "data_weather[\"minute\"] = data_weather.index.minute"
      ],
      "metadata": {
        "id": "O0xJiQMMgfgc"
      },
      "execution_count": null,
      "outputs": []
    },
    {
      "cell_type": "code",
      "source": [
        "del data\n",
        "\n",
        "data = pd.concat([data_weather, data_irradiance['ghi']], axis = 1)\n",
        "\n",
        "data.dropna(inplace=True)\n",
        "data_clean = data[['air_temp', 'windsp', 'winddir', 'month', 'day', 'hour', 'minute','ghi']].copy()\n",
        "\n",
        "# 15 minutos\n",
        "\n",
        "#data_clean = data_clean[data_clean.index.minute % 15 == 0]\n",
        "\n",
        "# 60 minutos\n",
        "data_clean = data_clean[data_clean.index.minute % 60 == 0]"
      ],
      "metadata": {
        "id": "YbvXf8IKfN1K"
      },
      "execution_count": null,
      "outputs": []
    },
    {
      "cell_type": "code",
      "source": [
        "from glob import glob\n",
        "pasta_modelos = sorted(glob(\"/content/Modelos/Modelos_Reduzidos/*.h5\"))"
      ],
      "metadata": {
        "id": "0FKg_ohyfAVW"
      },
      "execution_count": null,
      "outputs": []
    },
    {
      "cell_type": "code",
      "source": [
        "resultados = {\n",
        "    \"ANN\": {\n",
        "        \"RMSE\": [],\n",
        "        \"nRMSE\": [],\n",
        "        \"MAPE\": [],\n",
        "        \"R2\": []\n",
        "    },\n",
        "\n",
        "    \"LSTM\": {\n",
        "        \"RMSE\": [],\n",
        "        \"nRMSE\": [],\n",
        "        'MAPE': [],\n",
        "        \"R2\": []\n",
        "    }\n",
        "}"
      ],
      "metadata": {
        "id": "DoB6XGFSfLe1"
      },
      "execution_count": null,
      "outputs": []
    },
    {
      "cell_type": "markdown",
      "source": [
        "## Saving accuracy results from models predictions"
      ],
      "metadata": {
        "id": "ijmspBHvDD2V"
      }
    },
    {
      "cell_type": "code",
      "source": [
        "results_writer = pd.ExcelWriter('valores_red.xlsx', engine='openpyxl')"
      ],
      "metadata": {
        "id": "375SX_mij8Th"
      },
      "execution_count": null,
      "outputs": []
    },
    {
      "cell_type": "code",
      "source": [
        "for modelo in pasta_modelos:\n",
        "\n",
        "  modelo_tipo = modelo.split(\"/\")[-1].split(\"_\")[1]\n",
        "\n",
        "  year = int(modelo.split(\"/\")[-1].split(\"_\")[-1].split(\".\")[0])\n",
        "\n",
        "  model = load_model(modelo)\n",
        "\n",
        "  if modelo_tipo == \"LSTM\":\n",
        "    \n",
        "    #n_steps = 1\n",
        "\n",
        "    _, _, _, _, _, X_test, y_test = data_train_test_mod(data_clean, year , False)\n",
        "    dataFrame_real = pd.DataFrame(y_test)\n",
        "    dataFrame_real.to_excel(results_writer, sheet_name=f'valor_real_{year}')\n",
        "\n",
        "    n_features = X_test.shape[1]\n",
        "\n",
        "    X_test = X_test.reshape(-1, 1, 8)\n",
        "    y_test = y_test.reshape(-1,1)\n",
        "\n",
        "    result = model.predict(X_test)\n",
        "    dataFrame_predict = pd.DataFrame(result)\n",
        "    dataFrame_predict.to_excel(results_writer, sheet_name=f'valor_{modelo_tipo}_RED_predito_{year}')\n",
        "\n",
        "    resultados[modelo_tipo]['MAPE'].append(mape2(y_test,result))\n",
        "    resultados[modelo_tipo]['RMSE'].append(rmse(y_test,result))\n",
        "    resultados[modelo_tipo]['nRMSE'].append(nrmse(y_test,result))\n",
        "    resultados[modelo_tipo]['R2'].append(r2_score(y_test,result))\n",
        "\n",
        "\n",
        "  else:\n",
        "    _, _, _, _, _, X_test, y_test = data_train_test_mod(data_clean, year , False)\n",
        "\n",
        "    result = model.predict(X_test)\n",
        "    \n",
        "    dataFrame_predict = pd.DataFrame(result)\n",
        "    dataFrame_predict.to_excel(results_writer, sheet_name=f'valor_{modelo_tipo}_RED_predito_{year}')\n",
        "\n",
        "    y_test = y_test.reshape(-1,1)\n",
        "\n",
        "    resultados[modelo_tipo]['MAPE'].append(mape2(y_test,result))\n",
        "    resultados[modelo_tipo]['RMSE'].append(rmse(y_test,result))\n",
        "    resultados[modelo_tipo]['nRMSE'].append(nrmse(y_test,result))\n",
        "    resultados[modelo_tipo]['R2'].append(r2_score(y_test,result))"
      ],
      "metadata": {
        "id": "v7ohvbJGfM9e"
      },
      "execution_count": null,
      "outputs": []
    },
    {
      "cell_type": "code",
      "source": [
        "results_writer.save()"
      ],
      "metadata": {
        "id": "BZxCwkI5i7pQ"
      },
      "execution_count": null,
      "outputs": []
    },
    {
      "cell_type": "markdown",
      "source": [
        "# End."
      ],
      "metadata": {
        "id": "X4vGXr5DDU6B"
      }
    },
    {
      "cell_type": "code",
      "source": [
        ""
      ],
      "metadata": {
        "id": "7KlEztFeDVqk"
      },
      "execution_count": null,
      "outputs": []
    }
  ]
}